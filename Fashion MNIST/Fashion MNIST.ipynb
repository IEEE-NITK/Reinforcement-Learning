{
 "cells": [
  {
   "cell_type": "markdown",
   "metadata": {},
   "source": [
    "### Fashion MNIST"
   ]
  },
  {
   "cell_type": "markdown",
   "metadata": {},
   "source": [
    "#### Load training and testing dataset"
   ]
  },
  {
   "cell_type": "code",
   "execution_count": 1,
   "metadata": {
    "collapsed": true
   },
   "outputs": [],
   "source": [
    "import mnist_reader\n",
    "X_train, y_train = mnist_reader.load_mnist('data/fashion', kind='train')\n",
    "X_test, y_test = mnist_reader.load_mnist('data/fashion', kind='t10k')"
   ]
  },
  {
   "cell_type": "markdown",
   "metadata": {},
   "source": [
    "#### Convert 1D array of pixels values to 3D array "
   ]
  },
  {
   "cell_type": "code",
   "execution_count": 2,
   "metadata": {},
   "outputs": [
    {
     "name": "stderr",
     "output_type": "stream",
     "text": [
      "Using TensorFlow backend.\n"
     ]
    },
    {
     "name": "stdout",
     "output_type": "stream",
     "text": [
      "(60000, 28, 28, 1)\n",
      "(10000, 28, 28, 1)\n"
     ]
    }
   ],
   "source": [
    "from keras import backend as K\n",
    "img_rows = 28\n",
    "img_cols = 28\n",
    "if(K.image_data_format() == 'channels_first'):\n",
    "    X_train = X_train.reshape(X_train.shape[0], 1, img_rows, img_cols)\n",
    "    X_test = X_test.reshape(X_test.shape[0], 1, img_rows, img_cols)\n",
    "    in_shape = (1, img_rows, img_cols)\n",
    "else:\n",
    "    X_train = X_train.reshape(X_train.shape[0], img_rows, img_cols, 1)\n",
    "    X_test = X_test.reshape(X_test.shape[0], img_rows, img_cols, 1)\n",
    "    in_shape = (img_rows, img_cols, 1)\n",
    "print(X_train.shape)    \n",
    "print(X_test.shape)    "
   ]
  },
  {
   "cell_type": "markdown",
   "metadata": {},
   "source": [
    "#### One hot encode the target labels"
   ]
  },
  {
   "cell_type": "code",
   "execution_count": 3,
   "metadata": {},
   "outputs": [
    {
     "name": "stdout",
     "output_type": "stream",
     "text": [
      "(60000, 10)\n"
     ]
    }
   ],
   "source": [
    "import numpy as np\n",
    "from keras.utils import np_utils\n",
    "num_classes = 10\n",
    "y_train = np_utils.to_categorical(np.array(y_train), num_classes)\n",
    "y_test = np_utils.to_categorical(np.array(y_test), num_classes)\n",
    "print(y_train.shape)"
   ]
  },
  {
   "cell_type": "markdown",
   "metadata": {},
   "source": [
    "#### CNN Architecture"
   ]
  },
  {
   "cell_type": "code",
   "execution_count": 4,
   "metadata": {},
   "outputs": [
    {
     "name": "stdout",
     "output_type": "stream",
     "text": [
      "_________________________________________________________________\n",
      "Layer (type)                 Output Shape              Param #   \n",
      "=================================================================\n",
      "conv2d_1 (Conv2D)            (None, 28, 28, 32)        320       \n",
      "_________________________________________________________________\n",
      "max_pooling2d_1 (MaxPooling2 (None, 9, 9, 32)          0         \n",
      "_________________________________________________________________\n",
      "conv2d_2 (Conv2D)            (None, 9, 9, 64)          18496     \n",
      "_________________________________________________________________\n",
      "max_pooling2d_2 (MaxPooling2 (None, 3, 3, 64)          0         \n",
      "_________________________________________________________________\n",
      "conv2d_3 (Conv2D)            (None, 3, 3, 128)         73856     \n",
      "_________________________________________________________________\n",
      "max_pooling2d_3 (MaxPooling2 (None, 1, 1, 128)         0         \n",
      "_________________________________________________________________\n",
      "flatten_1 (Flatten)          (None, 128)               0         \n",
      "_________________________________________________________________\n",
      "dropout_1 (Dropout)          (None, 128)               0         \n",
      "_________________________________________________________________\n",
      "dense_1 (Dense)              (None, 10)                1290      \n",
      "=================================================================\n",
      "Total params: 93,962\n",
      "Trainable params: 93,962\n",
      "Non-trainable params: 0\n",
      "_________________________________________________________________\n"
     ]
    }
   ],
   "source": [
    "from keras.models import Sequential\n",
    "from keras.layers import Dense, Dropout, Flatten\n",
    "from keras.layers import Conv2D, MaxPooling2D, GlobalAveragePooling2D\n",
    "\n",
    "model = Sequential()\n",
    "\n",
    "model.add(Conv2D(filters=32, kernel_size=3, padding='same', activation='relu', \n",
    "                        input_shape=in_shape))\n",
    "model.add(MaxPooling2D(pool_size=3))\n",
    "model.add(Conv2D(filters=64, kernel_size=3, padding='same', activation='relu'))\n",
    "model.add(MaxPooling2D(pool_size=3))\n",
    "model.add(Conv2D(filters=128, kernel_size=3, padding='same', activation='relu'))\n",
    "model.add(MaxPooling2D(pool_size=3))\n",
    "model.add(Flatten())\n",
    "model.add(Dropout(0.5))\n",
    "model.add(Dense(num_classes, activation='softmax'))\n",
    "model.summary()"
   ]
  },
  {
   "cell_type": "markdown",
   "metadata": {},
   "source": [
    "#### Compile the model"
   ]
  },
  {
   "cell_type": "code",
   "execution_count": 5,
   "metadata": {
    "collapsed": true
   },
   "outputs": [],
   "source": [
    "model.compile(loss=\"categorical_crossentropy\", optimizer=\"adadelta\", metrics=[\"accuracy\"])"
   ]
  },
  {
   "cell_type": "markdown",
   "metadata": {},
   "source": [
    "#### Train the model"
   ]
  },
  {
   "cell_type": "code",
   "execution_count": 6,
   "metadata": {},
   "outputs": [
    {
     "name": "stdout",
     "output_type": "stream",
     "text": [
      "Train on 48000 samples, validate on 12000 samples\n",
      "Epoch 1/20\n",
      "47000/48000 [============================>.] - ETA: 0s - loss: 5.0917 - acc: 0.4628Epoch 00000: val_loss improved from inf to 0.67023, saving model to best_weights.hdf5\n",
      "48000/48000 [==============================] - 40s - loss: 5.0047 - acc: 0.4674 - val_loss: 0.6702 - val_acc: 0.7581\n",
      "Epoch 2/20\n",
      "47000/48000 [============================>.] - ETA: 0s - loss: 0.8317 - acc: 0.7092Epoch 00001: val_loss improved from 0.67023 to 0.56459, saving model to best_weights.hdf5\n",
      "48000/48000 [==============================] - 39s - loss: 0.8309 - acc: 0.7096 - val_loss: 0.5646 - val_acc: 0.7937\n",
      "Epoch 3/20\n",
      "47000/48000 [============================>.] - ETA: 0s - loss: 0.7224 - acc: 0.7433Epoch 00002: val_loss improved from 0.56459 to 0.56011, saving model to best_weights.hdf5\n",
      "48000/48000 [==============================] - 41s - loss: 0.7228 - acc: 0.7434 - val_loss: 0.5601 - val_acc: 0.7932\n",
      "Epoch 4/20\n",
      "47000/48000 [============================>.] - ETA: 0s - loss: 0.6571 - acc: 0.7650Epoch 00003: val_loss improved from 0.56011 to 0.47250, saving model to best_weights.hdf5\n",
      "48000/48000 [==============================] - 41s - loss: 0.6552 - acc: 0.7653 - val_loss: 0.4725 - val_acc: 0.8253\n",
      "Epoch 5/20\n",
      "47000/48000 [============================>.] - ETA: 0s - loss: 0.5979 - acc: 0.7871Epoch 00004: val_loss improved from 0.47250 to 0.44427, saving model to best_weights.hdf5\n",
      "48000/48000 [==============================] - 41s - loss: 0.5971 - acc: 0.7874 - val_loss: 0.4443 - val_acc: 0.8346\n",
      "Epoch 6/20\n",
      "47000/48000 [============================>.] - ETA: 0s - loss: 0.5460 - acc: 0.8065Epoch 00005: val_loss improved from 0.44427 to 0.42809, saving model to best_weights.hdf5\n",
      "48000/48000 [==============================] - 41s - loss: 0.5459 - acc: 0.8066 - val_loss: 0.4281 - val_acc: 0.8387\n",
      "Epoch 7/20\n",
      "47000/48000 [============================>.] - ETA: 0s - loss: 0.5211 - acc: 0.8125Epoch 00006: val_loss improved from 0.42809 to 0.40536, saving model to best_weights.hdf5\n",
      "48000/48000 [==============================] - 43s - loss: 0.5207 - acc: 0.8127 - val_loss: 0.4054 - val_acc: 0.8505\n",
      "Epoch 8/20\n",
      "47000/48000 [============================>.] - ETA: 0s - loss: 0.4903 - acc: 0.8230Epoch 00007: val_loss improved from 0.40536 to 0.39103, saving model to best_weights.hdf5\n",
      "48000/48000 [==============================] - 47s - loss: 0.4896 - acc: 0.8232 - val_loss: 0.3910 - val_acc: 0.8530\n",
      "Epoch 9/20\n",
      "47000/48000 [============================>.] - ETA: 0s - loss: 0.4691 - acc: 0.8314Epoch 00008: val_loss improved from 0.39103 to 0.36423, saving model to best_weights.hdf5\n",
      "48000/48000 [==============================] - 44s - loss: 0.4692 - acc: 0.8316 - val_loss: 0.3642 - val_acc: 0.8650\n",
      "Epoch 10/20\n",
      "47000/48000 [============================>.] - ETA: 0s - loss: 0.4520 - acc: 0.8371Epoch 00009: val_loss improved from 0.36423 to 0.35914, saving model to best_weights.hdf5\n",
      "48000/48000 [==============================] - 42s - loss: 0.4514 - acc: 0.8369 - val_loss: 0.3591 - val_acc: 0.8671\n",
      "Epoch 11/20\n",
      "47000/48000 [============================>.] - ETA: 0s - loss: 0.4313 - acc: 0.8438Epoch 00010: val_loss improved from 0.35914 to 0.35638, saving model to best_weights.hdf5\n",
      "48000/48000 [==============================] - 42s - loss: 0.4317 - acc: 0.8439 - val_loss: 0.3564 - val_acc: 0.8693\n",
      "Epoch 12/20\n",
      "47000/48000 [============================>.] - ETA: 0s - loss: 0.4145 - acc: 0.8485Epoch 00011: val_loss did not improve\n",
      "48000/48000 [==============================] - 42s - loss: 0.4145 - acc: 0.8487 - val_loss: 0.3598 - val_acc: 0.8660\n",
      "Epoch 13/20\n",
      "47000/48000 [============================>.] - ETA: 0s - loss: 0.4002 - acc: 0.8553Epoch 00012: val_loss improved from 0.35638 to 0.33837, saving model to best_weights.hdf5\n",
      "48000/48000 [==============================] - 43s - loss: 0.4009 - acc: 0.8551 - val_loss: 0.3384 - val_acc: 0.8758\n",
      "Epoch 14/20\n",
      "47000/48000 [============================>.] - ETA: 0s - loss: 0.3872 - acc: 0.8596Epoch 00013: val_loss improved from 0.33837 to 0.32129, saving model to best_weights.hdf5\n",
      "48000/48000 [==============================] - 41s - loss: 0.3873 - acc: 0.8597 - val_loss: 0.3213 - val_acc: 0.8819\n",
      "Epoch 15/20\n",
      "47000/48000 [============================>.] - ETA: 0s - loss: 0.3771 - acc: 0.8634Epoch 00014: val_loss did not improve\n",
      "48000/48000 [==============================] - 40s - loss: 0.3781 - acc: 0.8630 - val_loss: 0.3241 - val_acc: 0.8805\n",
      "Epoch 16/20\n",
      "47000/48000 [============================>.] - ETA: 0s - loss: 0.3662 - acc: 0.8677Epoch 00015: val_loss improved from 0.32129 to 0.31747, saving model to best_weights.hdf5\n",
      "48000/48000 [==============================] - 44s - loss: 0.3653 - acc: 0.8679 - val_loss: 0.3175 - val_acc: 0.8838\n",
      "Epoch 17/20\n",
      "47000/48000 [============================>.] - ETA: 0s - loss: 0.3567 - acc: 0.8704Epoch 00016: val_loss improved from 0.31747 to 0.31059, saving model to best_weights.hdf5\n",
      "48000/48000 [==============================] - 41s - loss: 0.3561 - acc: 0.8705 - val_loss: 0.3106 - val_acc: 0.8855\n",
      "Epoch 18/20\n",
      "47000/48000 [============================>.] - ETA: 0s - loss: 0.3472 - acc: 0.8727Epoch 00017: val_loss did not improve\n",
      "48000/48000 [==============================] - 44s - loss: 0.3479 - acc: 0.8726 - val_loss: 0.3257 - val_acc: 0.8790\n",
      "Epoch 19/20\n",
      "47000/48000 [============================>.] - ETA: 0s - loss: 0.3421 - acc: 0.8743Epoch 00018: val_loss did not improve\n",
      "48000/48000 [==============================] - 39s - loss: 0.3432 - acc: 0.8740 - val_loss: 0.3147 - val_acc: 0.8824\n",
      "Epoch 20/20\n",
      "47000/48000 [============================>.] - ETA: 0s - loss: 0.3357 - acc: 0.8782Epoch 00019: val_loss improved from 0.31059 to 0.29660, saving model to best_weights.hdf5\n",
      "48000/48000 [==============================] - 40s - loss: 0.3356 - acc: 0.8784 - val_loss: 0.2966 - val_acc: 0.8904\n"
     ]
    },
    {
     "data": {
      "text/plain": [
       "<keras.callbacks.History at 0x7f341a209a90>"
      ]
     },
     "execution_count": 6,
     "metadata": {},
     "output_type": "execute_result"
    }
   ],
   "source": [
    "from keras.callbacks import ModelCheckpoint  \n",
    "\n",
    "# Save the model with best validation loss\n",
    "checkpointer = ModelCheckpoint(filepath='best_weights.hdf5', \n",
    "                               verbose=1, save_best_only=True)\n",
    "\n",
    "# Train the model\n",
    "model.fit(X_train, y_train, epochs=20, batch_size=1000, validation_split=0.2, callbacks=[checkpointer], verbose=1)"
   ]
  },
  {
   "cell_type": "markdown",
   "metadata": {},
   "source": [
    "#### Load the model with best validation loss"
   ]
  },
  {
   "cell_type": "code",
   "execution_count": 7,
   "metadata": {
    "collapsed": true
   },
   "outputs": [],
   "source": [
    "model.load_weights('best_weights.hdf5')"
   ]
  },
  {
   "cell_type": "markdown",
   "metadata": {},
   "source": [
    "#### Test the model"
   ]
  },
  {
   "cell_type": "code",
   "execution_count": 12,
   "metadata": {},
   "outputs": [
    {
     "name": "stdout",
     "output_type": "stream",
     "text": [
      " 9856/10000 [============================>.] - ETA: 0s\n",
      "Accuracy:  88.42 %\n"
     ]
    }
   ],
   "source": [
    "print(\"\\nAccuracy: \", model.evaluate(X_test, y_test)[1] * 100, \"%\")"
   ]
  },
  {
   "cell_type": "code",
   "execution_count": null,
   "metadata": {
    "collapsed": true
   },
   "outputs": [],
   "source": []
  }
 ],
 "metadata": {
  "kernelspec": {
   "display_name": "Python 3",
   "language": "python",
   "name": "python3"
  },
  "language_info": {
   "codemirror_mode": {
    "name": "ipython",
    "version": 3
   },
   "file_extension": ".py",
   "mimetype": "text/x-python",
   "name": "python",
   "nbconvert_exporter": "python",
   "pygments_lexer": "ipython3",
   "version": "3.6.3"
  }
 },
 "nbformat": 4,
 "nbformat_minor": 2
}
